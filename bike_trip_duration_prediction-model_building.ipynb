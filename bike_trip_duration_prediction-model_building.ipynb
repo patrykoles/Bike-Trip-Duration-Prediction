{
  "cells": [
    {
      "cell_type": "markdown",
      "metadata": {},
      "source": [
        "## Predicting Bicycle Trip Duration Based on Weather Conditions, Route, and Season"
      ]
    },
    {
      "cell_type": "markdown",
      "metadata": {
        "id": "kaLCG8hG950h"
      },
      "source": [
        "### In the previous notebook, we formulated the hypothesis: The main factor influencing the duration of the trip is the distance traveled.\n",
        "#### Now, we will attempt to build a model to predict the duration of the bike trip in order to confirm this hypothesis."
      ]
    },
    {
      "cell_type": "markdown",
      "metadata": {
        "id": "8MZoP49LE6bB"
      },
      "source": [
        "## Part II - Development of the Regression Model"
      ]
    },
    {
      "cell_type": "markdown",
      "metadata": {
        "id": "fPSbONHixQ4I"
      },
      "source": [
        "### Importing libraries"
      ]
    },
    {
      "cell_type": "code",
      "execution_count": 1,
      "metadata": {
        "id": "4GAOBIRbxUKu"
      },
      "outputs": [],
      "source": [
        "from sklearn.preprocessing import MinMaxScaler, PolynomialFeatures\n",
        "from sklearn.feature_selection import SequentialFeatureSelector\n",
        "from sklearn.model_selection import train_test_split\n",
        "from sklearn.linear_model import LinearRegression, Lasso, Ridge\n",
        "from sklearn.ensemble import RandomForestRegressor\n",
        "from sklearn.metrics import mean_squared_error, r2_score\n",
        "import numpy as np\n",
        "import pandas as pd\n",
        "import seaborn as sns\n",
        "import matplotlib.pyplot as plt"
      ]
    },
    {
      "cell_type": "markdown",
      "metadata": {
        "id": "j_MPt_vvwKti"
      },
      "source": [
        "### Importing data"
      ]
    },
    {
      "cell_type": "code",
      "execution_count": 2,
      "metadata": {
        "id": "BmskzXyjvn5U"
      },
      "outputs": [],
      "source": [
        "trip_data = pd.read_csv('trip_data_cleaned.csv')\n",
        "trip_data = trip_data.drop(columns=['Unnamed: 0'])"
      ]
    },
    {
      "cell_type": "markdown",
      "metadata": {
        "id": "RJ4BAUJaxBf8"
      },
      "source": [
        "### Normalizing the Features"
      ]
    },
    {
      "cell_type": "code",
      "execution_count": 3,
      "metadata": {
        "id": "gVmh9g7XxAyk"
      },
      "outputs": [],
      "source": [
        "X = trip_data.drop(columns=['duration'])\n",
        "y = trip_data['duration']\n",
        "\n",
        "scaler = MinMaxScaler()\n",
        "X_scaled = pd.DataFrame(scaler.fit_transform(X), columns=X.columns)"
      ]
    },
    {
      "cell_type": "markdown",
      "metadata": {
        "id": "mmy8IcxbFlV1"
      },
      "source": [
        "### First, we will split our dataset into training and test sets with an 80/20 ratio."
      ]
    },
    {
      "cell_type": "code",
      "execution_count": 4,
      "metadata": {
        "id": "VKSE3IF5E-Rm"
      },
      "outputs": [],
      "source": [
        "X_train, X_test, y_train, y_test = train_test_split(\n",
        "    X_scaled,\n",
        "    y,\n",
        "    test_size=0.2,\n",
        "    random_state=0\n",
        ")"
      ]
    },
    {
      "cell_type": "markdown",
      "metadata": {
        "id": "idUnpFjFy2PM"
      },
      "source": [
        "### We will build a simple linear regression model and evaluate its performance using the mean squared error, root mean squared error, and the R<sup>2</sup> metric."
      ]
    },
    {
      "cell_type": "code",
      "execution_count": 5,
      "metadata": {
        "colab": {
          "base_uri": "https://localhost:8080/"
        },
        "id": "MLGxvWb9JjVB",
        "outputId": "003d3012-1be4-4aae-fec7-7ac516bfa8dc"
      },
      "outputs": [
        {
          "name": "stdout",
          "output_type": "stream",
          "text": [
            "MSE: 32580.6114393005\n",
            "RMS: 180.50100121412208\n",
            "R2: 0.4459547481438709\n",
            "\n",
            "\n",
            "precipitation: -7.951823331659774\n",
            "temperature: 52.70764330645079\n",
            "wind_speed: -1.5506168176004884\n",
            "sunshine: 19.52061272047382\n",
            "is_holiday: 17.072797620837363\n",
            "is_weekend: 22.65995614382332\n",
            "distance: 874.283872895788\n",
            "elevation: 86.73899644864545\n",
            "is_sunny: -22842904102175.1\n",
            "is_cloudy: -22842904102176.277\n",
            "is_rainy: -22842904102181.008\n",
            "is_spring: 14670206371089.922\n",
            "is_summer: 14670206371097.555\n",
            "is_fall: 14670206371096.123\n",
            "is_winter: 14670206371104.656\n"
          ]
        }
      ],
      "source": [
        "regressor = LinearRegression()\n",
        "regressor.fit(X_train, y_train)\n",
        "\n",
        "pred = regressor.predict(X_test)\n",
        "\n",
        "mse = mean_squared_error(y_test, pred)\n",
        "rms = np.sqrt(mse)\n",
        "r2 = r2_score(y_test, pred)\n",
        "\n",
        "mse_values = {\n",
        "    'pred_linear': mse\n",
        "}\n",
        "print('MSE:', mse)\n",
        "\n",
        "rms_values = {\n",
        "    'pred_linear': rms\n",
        "}\n",
        "print('RMS:', rms)\n",
        "r2_values = {\n",
        "    'pred_linear': r2\n",
        "}\n",
        "print('R2:', r2)\n",
        "\n",
        "coefs = dict(zip(X_train.columns, regressor.coef_))\n",
        "\n",
        "res = {\n",
        "    'pred_linear': coefs\n",
        "}\n",
        "\n",
        "print('\\n')\n",
        "for key, value in coefs.items():\n",
        "    print(f\"{key}: {value}\")"
      ]
    },
    {
      "cell_type": "markdown",
      "metadata": {
        "id": "C0otCH76ZrtR"
      },
      "source": [
        "We can observe that the highest coefficient was assigned to the distance feature (exluding binary features), which makes sense since it is the most correlated with the duration feature that we want to predict. We also see that relatively high coefficients were assigned to temperature and elevation, although these are much lower than the coefficient for distance.\n",
        "\n",
        "Additionally, we notice that the model has relatively large prediction errors. Based on the R<sup>2</sup> measure, we can conclude that our model explains only about 40% of the variability in the trip duration. This suggests that using multiple linear regression alone is not the best solution for this problem."
      ]
    },
    {
      "cell_type": "markdown",
      "metadata": {
        "id": "BdwKdXPm0b16"
      },
      "source": [
        "### We apply the Forward Stepwise algorithm to select the most significant features for our model."
      ]
    },
    {
      "cell_type": "code",
      "execution_count": 6,
      "metadata": {
        "colab": {
          "base_uri": "https://localhost:8080/"
        },
        "id": "0GZ5n9w0z5nT",
        "outputId": "3c2ec99b-07ee-46cc-a4a2-ea818da71c1f"
      },
      "outputs": [
        {
          "name": "stdout",
          "output_type": "stream",
          "text": [
            "['temperature' 'sunshine' 'is_weekend' 'distance' 'elevation' 'is_spring']\n"
          ]
        }
      ],
      "source": [
        "selector = SequentialFeatureSelector(LinearRegression(),\n",
        "                                      n_features_to_select=6,\n",
        "                                      direction='forward',\n",
        "                                      scoring='neg_mean_squared_error')\n",
        "\n",
        "selected_features_forward = selector.fit(X_train, y_train).get_feature_names_out()\n",
        "print(selected_features_forward)"
      ]
    },
    {
      "cell_type": "markdown",
      "metadata": {
        "id": "83VvCw0GbqXN"
      },
      "source": [
        "We can observe that the Forward Stepwise algorithm selected the features most correlated with the duration feature. This aligns with the highest (in absolute value) coefficients observed in the multiple linear regression model."
      ]
    },
    {
      "cell_type": "markdown",
      "metadata": {
        "id": "EiNX2OYucghY"
      },
      "source": [
        "### We create a new regression model using the selected features."
      ]
    },
    {
      "cell_type": "code",
      "execution_count": 7,
      "metadata": {
        "colab": {
          "base_uri": "https://localhost:8080/"
        },
        "id": "SIf8QT-51tTw",
        "outputId": "332a1ad9-e92a-4e45-e502-f66579fe263c"
      },
      "outputs": [
        {
          "name": "stdout",
          "output_type": "stream",
          "text": [
            "MSE: 32599.825725083218\n",
            "RMS: 180.55421824228648\n",
            "R2: 0.4456280021641168\n",
            "\n",
            "\n",
            "temperature: 45.358100039239915\n",
            "sunshine: 22.249399536426715\n",
            "is_weekend: 23.170753900661595\n",
            "distance: 874.1840274348702\n",
            "elevation: 86.66018389495527\n",
            "is_spring: -7.804653440407845\n"
          ]
        }
      ],
      "source": [
        "regressor = LinearRegression()\n",
        "regressor.fit(X_train[selected_features_forward], y_train)\n",
        "\n",
        "pred = regressor.predict(X_test[selected_features_forward])\n",
        "\n",
        "mse = mean_squared_error(y_test, pred)\n",
        "rms = np.sqrt(mse)\n",
        "r2 = r2_score(y_test, pred)\n",
        "\n",
        "mse_values['pred_forward'] = mse\n",
        "rms_values['pred_forward'] = rms\n",
        "r2_values['pred_forward'] = r2\n",
        "print('MSE:', mse)\n",
        "print('RMS:', rms)\n",
        "print('R2:', r2)\n",
        "\n",
        "coefs = dict(zip(selected_features_forward, regressor.coef_))\n",
        "\n",
        "res['pred_forward'] = coefs\n",
        "\n",
        "print('\\n')\n",
        "for key, value in coefs.items():\n",
        "    print(f\"{key}: {value}\")"
      ]
    },
    {
      "cell_type": "markdown",
      "metadata": {
        "id": "cFFtiOaSc9D1"
      },
      "source": [
        "Choosing the features suggested by the Forward Stepwise algorithm resulted in a slight degradation of the model. However, the difference is very small, which may indicate that the removed features had minimal impact on the model."
      ]
    },
    {
      "cell_type": "markdown",
      "metadata": {
        "id": "odc-wDoc2ROD"
      },
      "source": [
        "### We check which features will be selected by the Backward Stepwise algorithm."
      ]
    },
    {
      "cell_type": "code",
      "execution_count": 8,
      "metadata": {
        "colab": {
          "base_uri": "https://localhost:8080/"
        },
        "id": "xSHsIazh2MS9",
        "outputId": "3ebee251-2e2f-4bdb-d90d-c4d1d8b69058"
      },
      "outputs": [
        {
          "name": "stdout",
          "output_type": "stream",
          "text": [
            "['temperature' 'sunshine' 'is_weekend' 'distance' 'elevation' 'is_spring']\n"
          ]
        }
      ],
      "source": [
        "selector = SequentialFeatureSelector(LinearRegression(),\n",
        "                                      n_features_to_select=6,\n",
        "                                      direction='backward',\n",
        "                                      scoring='neg_mean_squared_error')\n",
        "\n",
        "selected_features_backward = selector.fit(X_train, y_train).get_feature_names_out()\n",
        "print(selected_features_backward)"
      ]
    },
    {
      "cell_type": "markdown",
      "metadata": {
        "id": "xzKfLUyfdo65"
      },
      "source": [
        "The Backward Stepwise algorithm selected the same features as the Forward Stepwise algorithm."
      ]
    },
    {
      "cell_type": "markdown",
      "metadata": {
        "id": "Zd5EQy2c3VFb"
      },
      "source": [
        "### We check if L1 regularization improves the model's quality (by testing different values of the regularization coefficient)."
      ]
    },
    {
      "cell_type": "code",
      "execution_count": 9,
      "metadata": {
        "colab": {
          "base_uri": "https://localhost:8080/",
          "height": 543
        },
        "id": "tNORhKjN3aux",
        "outputId": "d93c3de3-f03d-4308-af3e-4157d74c1934"
      },
      "outputs": [
        {
          "name": "stderr",
          "output_type": "stream",
          "text": [
            "C:\\Users\\patry\\AppData\\Local\\Temp\\ipykernel_22952\\1493135983.py:18: UserWarning: No artists with labels found to put in legend.  Note that artists whose label start with an underscore are ignored when legend() is called with no argument.\n",
            "  plt.legend()\n"
          ]
        },
        {
          "data": {
            "image/png": "[encoded data removed]",
            "text/plain": [
              "<Figure size 800x500 with 1 Axes>"
            ]
          },
          "metadata": {},
          "output_type": "display_data"
        }
      ],
      "source": [
        "alpha_values = np.arange(0.01, 2, 0.05)\n",
        "\n",
        "mse_val = []\n",
        "\n",
        "for alpha in alpha_values:\n",
        "    regressor = Lasso(alpha=alpha)\n",
        "    regressor.fit(X_train, y_train)\n",
        "    pred = regressor.predict(X_test)\n",
        "    mse = mean_squared_error(y_test, pred)\n",
        "    mse_val.append(mse)\n",
        "\n",
        "plt.figure(figsize=(8, 5))\n",
        "plt.plot(alpha_values, mse_val, marker='o')\n",
        "plt.title('The plot of the MSE error depending on the alpha parameter (Lasso).')\n",
        "plt.xlabel('Alpha')\n",
        "plt.ylabel('Mean Squared Error (MSE)')\n",
        "plt.grid(True)\n",
        "plt.legend()\n",
        "plt.show()"
      ]
    },
    {
      "cell_type": "markdown",
      "metadata": {
        "id": "GMGKaVq8ejEC"
      },
      "source": [
        "We can see that applying L1 regularization does not improve the quality of the model."
      ]
    },
    {
      "cell_type": "markdown",
      "metadata": {
        "id": "ixeN6m8l3O4o"
      },
      "source": [
        "### We check how L2 regularization will affect our regression model."
      ]
    },
    {
      "cell_type": "code",
      "execution_count": 10,
      "metadata": {
        "colab": {
          "base_uri": "https://localhost:8080/",
          "height": 558
        },
        "id": "StY3y_oo5wGV",
        "outputId": "2b95f045-f142-4482-a2de-3ea9e3d41602"
      },
      "outputs": [
        {
          "name": "stderr",
          "output_type": "stream",
          "text": [
            "C:\\Users\\patry\\AppData\\Local\\Temp\\ipykernel_22952\\934444442.py:18: UserWarning: No artists with labels found to put in legend.  Note that artists whose label start with an underscore are ignored when legend() is called with no argument.\n",
            "  plt.legend()\n"
          ]
        },
        {
          "data": {
            "image/png": "[encoded data removed]",
            "text/plain": [
              "<Figure size 800x500 with 1 Axes>"
            ]
          },
          "metadata": {},
          "output_type": "display_data"
        }
      ],
      "source": [
        "alpha_values = np.arange(0.01, 2, 0.05)\n",
        "\n",
        "mse_val = []\n",
        "\n",
        "for alpha in alpha_values:\n",
        "    regressor = Ridge(alpha=alpha)\n",
        "    regressor.fit(X_train, y_train)\n",
        "    pred = regressor.predict(X_test)\n",
        "    mse = mean_squared_error(y_test, pred)\n",
        "    mse_val.append(mse)\n",
        "\n",
        "plt.figure(figsize=(8, 5))\n",
        "plt.plot(alpha_values, mse_val, marker='o')\n",
        "plt.title('The plot of the MSE error depending on the alpha parameter (Ridge)')\n",
        "plt.xlabel('Alpha')\n",
        "plt.ylabel('Mean Squared Error (MSE)')\n",
        "plt.grid(True)\n",
        "plt.legend()\n",
        "plt.show()"
      ]
    },
    {
      "cell_type": "markdown",
      "metadata": {
        "id": "yvxvh_hCfEyP"
      },
      "source": [
        "We can see that the application of L2 regularization also does not improve the model's quality. In this case, we observe that the changes in error depending on the regularization coefficient are very small.\n",
        "\n",
        "Since no regularization technique has improved the model's performance, this may suggest that our model is not overfitted, or that regularization weakens features that are important for the model."
      ]
    },
    {
      "cell_type": "markdown",
      "metadata": {
        "id": "e4p873ZsWCR_"
      },
      "source": [
        "### We decided to test regression using random forests."
      ]
    },
    {
      "cell_type": "code",
      "execution_count": 11,
      "metadata": {
        "colab": {
          "base_uri": "https://localhost:8080/"
        },
        "id": "JFAjBRtYWBy5",
        "outputId": "800a709a-4d29-4930-8fad-2ebd809e02e1"
      },
      "outputs": [
        {
          "name": "stdout",
          "output_type": "stream",
          "text": [
            "MSE: 22067.832768430097\n",
            "RMS: 148.55245796832207\n",
            "R2: 0.6247284067432992\n"
          ]
        }
      ],
      "source": [
        "regressor = RandomForestRegressor()\n",
        "regressor.fit(X_train, y_train)\n",
        "\n",
        "pred = regressor.predict(X_test)\n",
        "\n",
        "mse = mean_squared_error(y_test, pred)\n",
        "rms = np.sqrt(mse)\n",
        "r2 = r2_score(y_test, pred)\n",
        "mse_values['pred_random_forest'] = mse\n",
        "rms_values['pred_random_forest'] = rms\n",
        "r2_values['pred_random_forest'] = r2\n",
        "\n",
        "print('MSE:', mse)\n",
        "print('RMS:', rms)\n",
        "print('R2:', r2)"
      ]
    },
    {
      "cell_type": "markdown",
      "metadata": {
        "id": "EG48xVq9gAKP"
      },
      "source": [
        "We can see a significant improvement compared to the previously used methods. Due to the way random forests work, we can infer that our data is not linearly dependent."
      ]
    },
    {
      "cell_type": "markdown",
      "metadata": {
        "id": "SPsQzL1g6w3S"
      },
      "source": [
        "### We are creating custom features based on existing features."
      ]
    },
    {
      "cell_type": "code",
      "execution_count": 12,
      "metadata": {
        "id": "NVrtgQTicjzh"
      },
      "outputs": [],
      "source": [
        "trip_data['precipitation_log'] = np.log(trip_data['precipitation'] + 1)\n",
        "trip_data['wind_speed_log'] = np.log(trip_data['wind_speed'] + 1)\n",
        "trip_data['distance_log'] = np.log(trip_data['distance'] + 1)\n",
        "trip_data['distancextemperature'] = trip_data['distance'] * trip_data['temperature']\n",
        "trip_data['sunshinexdistance'] = trip_data['sunshine'] * trip_data['distance']\n",
        "trip_data['precipitationxdistance'] = trip_data['precipitation'] * trip_data['distance']\n",
        "trip_data['elevationxdistance'] = trip_data['elevation'] * trip_data['distance']\n",
        "trip_data['distancesqr'] = trip_data['distance'] * trip_data['distance']\n",
        "trip_data['sunshinesqr'] = trip_data['sunshine'] * trip_data['sunshine']\n",
        "trip_data['distance^3'] = trip_data['distance'] * trip_data['distance'] * trip_data['distance']\n",
        "trip_data['sunshine^3'] = trip_data['sunshine'] * trip_data['sunshine'] * trip_data['sunshine']\n",
        "trip_data['elevationsqr'] = trip_data['elevation'] * trip_data['elevation']\n",
        "trip_data['elevation^3'] = trip_data['elevation'] * trip_data['elevation'] * trip_data['elevation']"
      ]
    },
    {
      "cell_type": "markdown",
      "metadata": {
        "id": "V__NutyOgjZM"
      },
      "source": [
        "We added several features using logarithms to balance their distribution. We multiplied some features together to see if they influence each other. Features with the highest correlation to the duration feature were raised to the 2nd and 3rd powers to check if they have non-linear dependencies."
      ]
    },
    {
      "cell_type": "markdown",
      "metadata": {
        "id": "0JDuo59s85HR"
      },
      "source": [
        "### We normalize the new set of features."
      ]
    },
    {
      "cell_type": "code",
      "execution_count": 13,
      "metadata": {
        "id": "LHiY_M4T84FH"
      },
      "outputs": [],
      "source": [
        "X = trip_data.drop(columns=['duration'])\n",
        "y = trip_data['duration']\n",
        "\n",
        "scaler = MinMaxScaler()\n",
        "X_scaled = pd.DataFrame(scaler.fit_transform(X), columns=X.columns)"
      ]
    },
    {
      "cell_type": "markdown",
      "metadata": {
        "id": "-GDcCM-19ARy"
      },
      "source": [
        "### We split the dataset."
      ]
    },
    {
      "cell_type": "code",
      "execution_count": 14,
      "metadata": {
        "id": "ioepabMx9B_F"
      },
      "outputs": [],
      "source": [
        "X_train, X_test, y_train, y_test = train_test_split(\n",
        "    X_scaled,\n",
        "    y,\n",
        "    test_size=0.2,\n",
        "    random_state=0\n",
        ")"
      ]
    },
    {
      "cell_type": "markdown",
      "metadata": {
        "id": "V8AEXm6V9FUE"
      },
      "source": [
        "### We create a linear regression model based on the new set of features."
      ]
    },
    {
      "cell_type": "code",
      "execution_count": 15,
      "metadata": {
        "colab": {
          "base_uri": "https://localhost:8080/"
        },
        "id": "-u3TQeZj9HzN",
        "outputId": "db266e9f-b3b3-4486-b81e-1e040c097b21"
      },
      "outputs": [
        {
          "name": "stdout",
          "output_type": "stream",
          "text": [
            "MSE: 32401.329051820412\n",
            "RMS: 180.0036917727534\n",
            "R2: 0.4490035109244538\n",
            "\n",
            "\n",
            "precipitation: 16.04457639900819\n",
            "temperature: 75.91403246210399\n",
            "wind_speed: -54.57791746439567\n",
            "sunshine: 42.16921550818061\n",
            "is_holiday: 16.866590131885907\n",
            "is_weekend: 22.520058122959117\n",
            "distance: 2420.713038365105\n",
            "elevation: 47.69315551871186\n",
            "is_sunny: -26932637128578.375\n",
            "is_cloudy: -26932637128580.1\n",
            "is_rainy: -26932637128584.508\n",
            "is_spring: 22641422987229.277\n",
            "is_summer: 22641422987237.086\n",
            "is_fall: 22641422987235.492\n",
            "is_winter: 22641422987243.293\n",
            "precipitation_log: -22.20772199016491\n",
            "wind_speed_log: 58.23556288873831\n",
            "distance_log: -868.1097391245972\n",
            "distancextemperature: -71.35325717090863\n",
            "sunshinexdistance: 7.489519843447528\n",
            "precipitationxdistance: 4.169859958713904\n",
            "elevationxdistance: 8.384861186040427\n",
            "distancesqr: -2116.316817168003\n",
            "sunshinesqr: -71.32466376658098\n",
            "distance^3: 1134.3388243534885\n",
            "sunshine^3: 45.708817665498884\n",
            "elevationsqr: 58.45352455016806\n",
            "elevation^3: 114.24624459330064\n"
          ]
        }
      ],
      "source": [
        "regressor = LinearRegression()\n",
        "regressor.fit(X_train, y_train)\n",
        "\n",
        "pred = regressor.predict(X_test)\n",
        "\n",
        "mse = mean_squared_error(y_test, pred)\n",
        "rms = np.sqrt(mse)\n",
        "r2 = r2_score(y_test, pred)\n",
        "\n",
        "mse_values['pred_linear_new'] = mse\n",
        "rms_values['pred_linear_new'] = rms\n",
        "r2_values['pred_linear_new'] = r2\n",
        "print('MSE:', mse)\n",
        "print('RMS:', rms)\n",
        "print('R2:', r2)\n",
        "\n",
        "coefs = dict(zip(X_train.columns, regressor.coef_))\n",
        "\n",
        "res['pred_linear_new'] = coefs\n",
        "\n",
        "print('\\n')\n",
        "for key, value in coefs.items():\n",
        "    print(f\"{key}: {value}\")"
      ]
    },
    {
      "cell_type": "markdown",
      "metadata": {
        "id": "bDOJMxCeio4d"
      },
      "source": [
        "We see a slight improvement in the model's quality compared to the previous multiple regression model, but the dominant feature in the model remains the distance feature. We also observe that the logarithm of this feature and its higher powers play a significant role. However, the change in our model is minimal, and the coverage of the trip duration variability remains almost the same."
      ]
    },
    {
      "cell_type": "markdown",
      "metadata": {
        "id": "eV59-bn29feI"
      },
      "source": [
        "### We check the optimal number of features for the new feature set using Forward Stepwise."
      ]
    },
    {
      "cell_type": "code",
      "execution_count": 16,
      "metadata": {
        "colab": {
          "base_uri": "https://localhost:8080/",
          "height": 543
        },
        "id": "2XFkTvSc9ikz",
        "outputId": "c50d62a5-f2c8-4aa6-ddef-b031da9b14b1"
      },
      "outputs": [
        {
          "name": "stderr",
          "output_type": "stream",
          "text": [
            "C:\\Users\\patry\\AppData\\Local\\Temp\\ipykernel_22952\\1389051037.py:26: UserWarning: No artists with labels found to put in legend.  Note that artists whose label start with an underscore are ignored when legend() is called with no argument.\n",
            "  plt.legend()\n"
          ]
        },
        {
          "data": {
            "image/png": "[encoded data removed]",
            "text/plain": [
              "<Figure size 800x500 with 1 Axes>"
            ]
          },
          "metadata": {},
          "output_type": "display_data"
        }
      ],
      "source": [
        "mse_val = []\n",
        "\n",
        "n_features = np.arange(1, 10, 1)\n",
        "\n",
        "for n_feature in n_features:\n",
        "    selector = SequentialFeatureSelector(LinearRegression(),\n",
        "                                          n_features_to_select=n_feature,\n",
        "                                          direction='forward',\n",
        "                                          scoring='neg_mean_squared_error')\n",
        "    selected_features_forward = selector.fit(X_train, y_train).get_feature_names_out()\n",
        "\n",
        "    regressor = LinearRegression()\n",
        "    regressor.fit(X_train[selected_features_forward], y_train)\n",
        "\n",
        "    pred = regressor.predict(X_test[selected_features_forward])\n",
        "\n",
        "    mse = mean_squared_error(y_test, pred)\n",
        "    mse_val.append(mse)\n",
        "\n",
        "plt.figure(figsize=(8, 5))\n",
        "plt.plot(n_features, mse_val, marker='o')\n",
        "plt.title('The MSE error plot depending on the number of selected features.')\n",
        "plt.xlabel('n_features')\n",
        "plt.ylabel('Mean Squared Error (MSE)')\n",
        "plt.grid(True)\n",
        "plt.legend()\n",
        "plt.show()"
      ]
    },
    {
      "cell_type": "markdown",
      "metadata": {
        "id": "yvTRDZypV5DL"
      },
      "source": [
        "The best choice is 8 features – we check the linear regression model for the 8 selected features."
      ]
    },
    {
      "cell_type": "code",
      "execution_count": 17,
      "metadata": {
        "colab": {
          "base_uri": "https://localhost:8080/"
        },
        "id": "qivey3rSVw08",
        "outputId": "5a37482a-b28c-486a-b035-ab4043f25de3"
      },
      "outputs": [
        {
          "name": "stdout",
          "output_type": "stream",
          "text": [
            "['temperature' 'sunshine' 'is_weekend' 'distance' 'elevation'\n",
            " 'distance_log' 'elevationsqr' 'elevation^3']\n"
          ]
        }
      ],
      "source": [
        "selector = SequentialFeatureSelector(LinearRegression(),\n",
        "                                          n_features_to_select=8,\n",
        "                                          direction='forward',\n",
        "                                          scoring='neg_mean_squared_error')\n",
        "selected_features_forward = selector.fit(X_train, y_train).get_feature_names_out()\n",
        "print(selected_features_forward)"
      ]
    },
    {
      "cell_type": "markdown",
      "metadata": {
        "id": "Cr9_yxlujx0q"
      },
      "source": [
        "We can see that the features with the largest coefficients from the previous model were selected. Among the chosen features, we also have the ones we added, such as distance^3 and distance_log. This again shows that the distance feature is the most important for the model and has the greatest influence on it, but it does not necessarily describe the duration feature with a linear relationship."
      ]
    },
    {
      "cell_type": "code",
      "execution_count": 18,
      "metadata": {
        "colab": {
          "base_uri": "https://localhost:8080/"
        },
        "id": "ncCMXVjr9mda",
        "outputId": "06785d09-53a0-4e9f-f017-6f534479b9a5"
      },
      "outputs": [
        {
          "name": "stdout",
          "output_type": "stream",
          "text": [
            "MSE: 32501.684619670836\n",
            "RMS: 180.28223600696447\n",
            "R2: 0.4472969276711456\n",
            "\n",
            "\n",
            "temperature: 43.205377982565736\n",
            "sunshine: 20.067837186730273\n",
            "is_weekend: 22.89019070458769\n",
            "distance: 939.5837828540815\n",
            "elevation: 50.71686717403847\n",
            "distance_log: -143.8397845424496\n",
            "elevationsqr: 58.24525854592668\n",
            "elevation^3: 113.55254325023567\n"
          ]
        }
      ],
      "source": [
        "regressor = LinearRegression()\n",
        "regressor.fit(X_train[selected_features_forward], y_train)\n",
        "\n",
        "pred = regressor.predict(X_test[selected_features_forward])\n",
        "\n",
        "mse = mean_squared_error(y_test, pred)\n",
        "rms = np.sqrt(mse)\n",
        "r2 = r2_score(y_test, pred)\n",
        "\n",
        "mse_values['pred_forward_new'] = mse\n",
        "rms_values['pred_forward_new'] = rms\n",
        "r2_values['pred_forward_new'] = r2\n",
        "print('MSE:', mse)\n",
        "print('RMS:', rms)\n",
        "print('R2:', r2)\n",
        "\n",
        "coefs = dict(zip(selected_features_forward, regressor.coef_))\n",
        "\n",
        "res['pred_forward_new'] = coefs\n",
        "\n",
        "print('\\n')\n",
        "for key, value in coefs.items():\n",
        "    print(f\"{key}: {value}\")"
      ]
    },
    {
      "cell_type": "markdown",
      "metadata": {
        "id": "gSUJYRlzkRZg"
      },
      "source": [
        "The feature selection worsened the model's performance. We can see that the features related to distance still have the greatest influence on the model."
      ]
    },
    {
      "cell_type": "markdown",
      "metadata": {
        "id": "Lspf1NkDm5XC"
      },
      "source": [
        "### Testing regression using random forests on the new features."
      ]
    },
    {
      "cell_type": "code",
      "execution_count": 19,
      "metadata": {
        "colab": {
          "base_uri": "https://localhost:8080/"
        },
        "id": "e16cd-2AmtPc",
        "outputId": "37f91f4e-5de6-4a48-ce49-01b98c03a28c"
      },
      "outputs": [
        {
          "name": "stdout",
          "output_type": "stream",
          "text": [
            "MSE: 21889.934614462458\n",
            "RMS: 147.95247417485947\n",
            "R2: 0.6277536301251062\n"
          ]
        }
      ],
      "source": [
        "regressor = RandomForestRegressor()\n",
        "regressor.fit(X_train, y_train)\n",
        "\n",
        "pred = regressor.predict(X_test)\n",
        "\n",
        "mse = mean_squared_error(y_test, pred)\n",
        "rms = np.sqrt(mse)\n",
        "r2 = r2_score(y_test, pred)\n",
        "mse_values['pred_random_forest_new'] = mse\n",
        "rms_values['pred_random_forest_new'] = rms\n",
        "r2_values['pred_random_forest_new'] = r2\n",
        "\n",
        "print('MSE:', mse)\n",
        "print('RMS:', rms)\n",
        "print('R2:', r2)"
      ]
    },
    {
      "cell_type": "markdown",
      "metadata": {
        "id": "8jWrlnAo_lU2"
      },
      "source": [
        "### Since the feature \"distance\" has the greatest impact on the result, we decided to check the results of a polynomial regression model based on the \"distance\" feature."
      ]
    },
    {
      "cell_type": "code",
      "execution_count": 21,
      "metadata": {
        "colab": {
          "base_uri": "https://localhost:8080/",
          "height": 543
        },
        "id": "wtDkL4dGAL4N",
        "outputId": "c3204a9b-ac20-4c1a-bac2-173ce0eb992b"
      },
      "outputs": [
        {
          "name": "stderr",
          "output_type": "stream",
          "text": [
            "C:\\Users\\patry\\AppData\\Local\\Temp\\ipykernel_22952\\1923010154.py:30: UserWarning: No artists with labels found to put in legend.  Note that artists whose label start with an underscore are ignored when legend() is called with no argument.\n",
            "  plt.legend()\n"
          ]
        },
        {
          "data": {
            "image/png": "[encoded data removed]",
            "text/plain": [
              "<Figure size 800x500 with 1 Axes>"
            ]
          },
          "metadata": {},
          "output_type": "display_data"
        }
      ],
      "source": [
        "mse_val = []\n",
        "\n",
        "degrees = np.arange(2, 10, 1)\n",
        "\n",
        "for degree in degrees:\n",
        "    poly = PolynomialFeatures(degree=degree)\n",
        "    poly_features = poly.fit_transform(trip_data['distance'].to_numpy().reshape(-1, 1))\n",
        "\n",
        "    X_train, X_test, y_train, y_test = train_test_split(\n",
        "        poly_features,\n",
        "        y,\n",
        "        test_size=0.2,\n",
        "        random_state=0\n",
        "    )\n",
        "\n",
        "    regressor = LinearRegression()\n",
        "    regressor.fit(X_train, y_train)\n",
        "\n",
        "    pred = regressor.predict(X_test)\n",
        "\n",
        "    mse = mean_squared_error(y_test, pred)\n",
        "    mse_val.append(mse)\n",
        "\n",
        "plt.figure(figsize=(8, 5))\n",
        "plt.plot(degrees, mse_val, marker='o')\n",
        "plt.title('Plot of MSE error depending on the degree of the polynomial.')\n",
        "plt.xlabel('Degree')\n",
        "plt.ylabel('Mean Squared Error (MSE)')\n",
        "plt.grid(True)\n",
        "plt.legend()\n",
        "plt.show()"
      ]
    },
    {
      "cell_type": "markdown",
      "metadata": {
        "id": "7EFiRRUkSzbU"
      },
      "source": [
        "The best choice is the 6th degree polynomial."
      ]
    },
    {
      "cell_type": "code",
      "execution_count": 22,
      "metadata": {
        "colab": {
          "base_uri": "https://localhost:8080/"
        },
        "id": "TC4FyafASzs7",
        "outputId": "88617542-409f-434c-b698-2099b1d936b7"
      },
      "outputs": [
        {
          "name": "stdout",
          "output_type": "stream",
          "text": [
            "MSE: 33075.97700086605\n",
            "RMS: 181.86802083067283\n",
            "R2: 0.4375308750121537\n",
            "\n",
            "\n",
            "intercept: 0.0\n",
            "distance: -1.0169744448825413e-11\n",
            "distance^2: 1.5449754709615204e-10\n",
            "distance^3: 1.3435016572161246e-07\n"
          ]
        }
      ],
      "source": [
        "poly = PolynomialFeatures(degree=6)\n",
        "poly_features = poly.fit_transform(trip_data['distance'].to_numpy().reshape(-1, 1))\n",
        "\n",
        "X_train, X_test, y_train, y_test = train_test_split(\n",
        "    poly_features,\n",
        "    y,\n",
        "    test_size=0.2,\n",
        "    random_state=0\n",
        ")\n",
        "\n",
        "regressor = LinearRegression()\n",
        "regressor.fit(X_train, y_train)\n",
        "\n",
        "pred = regressor.predict(X_test)\n",
        "\n",
        "mse = mean_squared_error(y_test, pred)\n",
        "rms = np.sqrt(mse)\n",
        "r2 = r2_score(y_test, pred)\n",
        "\n",
        "mse_values['pred_poly_new'] = mse\n",
        "rms_values['pred_poly_new'] = rms\n",
        "r2_values['pred_poly_new'] = r2\n",
        "print('MSE:', mse)\n",
        "print('RMS:', rms)\n",
        "print('R2:', r2)\n",
        "\n",
        "coefs = dict(zip(['intercept', 'distance', 'distance^2', 'distance^3'], regressor.coef_))\n",
        "\n",
        "res['pred_poly_new'] = coefs\n",
        "\n",
        "print('\\n')\n",
        "for key, value in coefs.items():\n",
        "    print(f\"{key}: {value}\")"
      ]
    },
    {
      "cell_type": "markdown",
      "metadata": {
        "id": "O-baHzlAlWvc"
      },
      "source": [
        "We can see that the polynomial regression model based on the distance feature performed worse than the other models. This shows that the distance feature alone is not sufficient to describe our target variable. However, since the model's result is not significantly different from the results of other models, we can conclude that the distance feature is a very important component."
      ]
    },
    {
      "cell_type": "markdown",
      "metadata": {
        "id": "MVttFpFLnEZt"
      },
      "source": [
        "### Model Summary"
      ]
    },
    {
      "cell_type": "code",
      "execution_count": 23,
      "metadata": {
        "colab": {
          "base_uri": "https://localhost:8080/"
        },
        "id": "UzuHQXoiTqia",
        "outputId": "75ca3221-49f1-4e83-fe8a-664419792cff"
      },
      "outputs": [
        {
          "name": "stdout",
          "output_type": "stream",
          "text": [
            "pred_linear: 32580.6114393005\n",
            "pred_forward: 32599.825725083218\n",
            "pred_random_forest: 22067.832768430097\n",
            "pred_linear_new: 32401.329051820412\n",
            "pred_forward_new: 32501.684619670836\n",
            "pred_random_forest_new: 21889.934614462458\n",
            "pred_poly_new: 33075.97700086605\n"
          ]
        }
      ],
      "source": [
        "for key, value in mse_values.items():\n",
        "    print(f\"{key}: {value}\")"
      ]
    },
    {
      "cell_type": "code",
      "execution_count": 25,
      "metadata": {
        "colab": {
          "base_uri": "https://localhost:8080/"
        },
        "id": "0lGlYUVinVpX",
        "outputId": "e3a95780-ed83-4d45-ec81-fd266361710c"
      },
      "outputs": [
        {
          "name": "stdout",
          "output_type": "stream",
          "text": [
            "pred_linear: 180.50100121412208\n",
            "pred_forward: 180.55421824228648\n",
            "pred_random_forest: 148.55245796832207\n",
            "pred_linear_new: 180.0036917727534\n",
            "pred_forward_new: 180.28223600696447\n",
            "pred_random_forest_new: 147.95247417485947\n",
            "pred_poly_new: 181.86802083067283\n"
          ]
        }
      ],
      "source": [
        "for key, value in rms_values.items():\n",
        "    print(f\"{key}: {value}\")"
      ]
    },
    {
      "cell_type": "code",
      "execution_count": 26,
      "metadata": {
        "colab": {
          "base_uri": "https://localhost:8080/"
        },
        "id": "If3k_2vUnXO6",
        "outputId": "00fb3a6d-90b4-4223-9643-35c838d2f321"
      },
      "outputs": [
        {
          "name": "stdout",
          "output_type": "stream",
          "text": [
            "pred_linear: 0.4459547481438709\n",
            "pred_forward: 0.4456280021641168\n",
            "pred_random_forest: 0.6247284067432992\n",
            "pred_linear_new: 0.4490035109244538\n",
            "pred_forward_new: 0.4472969276711456\n",
            "pred_random_forest_new: 0.6277536301251062\n",
            "pred_poly_new: 0.4375308750121537\n"
          ]
        }
      ],
      "source": [
        "for key, value in r2_values.items():\n",
        "    print(f\"{key}: {value}\")"
      ]
    },
    {
      "cell_type": "markdown",
      "metadata": {
        "id": "lF7vPOwgnM7w"
      },
      "source": [
        "We can see that the regression using random forests performed the best. We noticed that adding new features brought some improvement, but it was minimal. This does not significantly impact the overall performance of the model.\n",
        "\n",
        "The results we obtained are not very good. This could mean that there are some features that describe the trip duration well, but they are not present in our dataset. With the dataset we have, we are able to explain about 60% of the variability in the target feature. Therefore, further expanding the dataset could help us build a better model that would more accurately describe the trip duration."
      ]
    },
    {
      "cell_type": "markdown",
      "metadata": {
        "id": "Udp_JdiWmss-"
      },
      "source": [
        "### Summary of the obtained coefficients"
      ]
    },
    {
      "cell_type": "code",
      "execution_count": 27,
      "metadata": {
        "colab": {
          "base_uri": "https://localhost:8080/"
        },
        "id": "7Hn73Ew2TzQ9",
        "outputId": "fac97e5d-86d5-430b-909a-0970092bac26"
      },
      "outputs": [
        {
          "name": "stdout",
          "output_type": "stream",
          "text": [
            "pred_linear\n",
            "\tprecipitation: -7.951823331659774\n",
            "\ttemperature: 52.70764330645079\n",
            "\twind_speed: -1.5506168176004884\n",
            "\tsunshine: 19.52061272047382\n",
            "\tis_holiday: 17.072797620837363\n",
            "\tis_weekend: 22.65995614382332\n",
            "\tdistance: 874.283872895788\n",
            "\televation: 86.73899644864545\n",
            "\tis_sunny: -22842904102175.1\n",
            "\tis_cloudy: -22842904102176.277\n",
            "\tis_rainy: -22842904102181.008\n",
            "\tis_spring: 14670206371089.922\n",
            "\tis_summer: 14670206371097.555\n",
            "\tis_fall: 14670206371096.123\n",
            "\tis_winter: 14670206371104.656\n",
            "\n",
            "pred_forward\n",
            "\ttemperature: 45.358100039239915\n",
            "\tsunshine: 22.249399536426715\n",
            "\tis_weekend: 23.170753900661595\n",
            "\tdistance: 874.1840274348702\n",
            "\televation: 86.66018389495527\n",
            "\tis_spring: -7.804653440407845\n",
            "\n",
            "pred_linear_new\n",
            "\tprecipitation: 16.04457639900819\n",
            "\ttemperature: 75.91403246210399\n",
            "\twind_speed: -54.57791746439567\n",
            "\tsunshine: 42.16921550818061\n",
            "\tis_holiday: 16.866590131885907\n",
            "\tis_weekend: 22.520058122959117\n",
            "\tdistance: 2420.713038365105\n",
            "\televation: 47.69315551871186\n",
            "\tis_sunny: -26932637128578.375\n",
            "\tis_cloudy: -26932637128580.1\n",
            "\tis_rainy: -26932637128584.508\n",
            "\tis_spring: 22641422987229.277\n",
            "\tis_summer: 22641422987237.086\n",
            "\tis_fall: 22641422987235.492\n",
            "\tis_winter: 22641422987243.293\n",
            "\tprecipitation_log: -22.20772199016491\n",
            "\twind_speed_log: 58.23556288873831\n",
            "\tdistance_log: -868.1097391245972\n",
            "\tdistancextemperature: -71.35325717090863\n",
            "\tsunshinexdistance: 7.489519843447528\n",
            "\tprecipitationxdistance: 4.169859958713904\n",
            "\televationxdistance: 8.384861186040427\n",
            "\tdistancesqr: -2116.316817168003\n",
            "\tsunshinesqr: -71.32466376658098\n",
            "\tdistance^3: 1134.3388243534885\n",
            "\tsunshine^3: 45.708817665498884\n",
            "\televationsqr: 58.45352455016806\n",
            "\televation^3: 114.24624459330064\n",
            "\n",
            "pred_forward_new\n",
            "\ttemperature: 43.205377982565736\n",
            "\tsunshine: 20.067837186730273\n",
            "\tis_weekend: 22.89019070458769\n",
            "\tdistance: 939.5837828540815\n",
            "\televation: 50.71686717403847\n",
            "\tdistance_log: -143.8397845424496\n",
            "\televationsqr: 58.24525854592668\n",
            "\televation^3: 113.55254325023567\n",
            "\n",
            "pred_poly_new\n",
            "\tintercept: 0.0\n",
            "\tdistance: -1.0169744448825413e-11\n",
            "\tdistance^2: 1.5449754709615204e-10\n",
            "\tdistance^3: 1.3435016572161246e-07\n",
            "\n"
          ]
        }
      ],
      "source": [
        "for key, value in res.items():\n",
        "    print(key)\n",
        "    for k, v in value.items():\n",
        "        print(f\"\\t{k}: {v}\")\n",
        "    print()"
      ]
    },
    {
      "cell_type": "markdown",
      "metadata": {
        "id": "r4YT0cL8o0eq"
      },
      "source": [
        "We can see that in every model, the feature \"distance\" dominates the influence of other features, which aligns with our hypothesis. It is surprising how little impact precipitation and wind speed have on the model. The feature \"is_sunny\" may have been ignored by the model due to the presence of the \"sunshine\" feature, which covered its influence on the model. We can also notice that the impact of the \"elevation\" feature stands out among the other features."
      ]
    }
  ],
  "metadata": {
    "colab": {
      "provenance": []
    },
    "kernelspec": {
      "display_name": "base",
      "language": "python",
      "name": "python3"
    },
    "language_info": {
      "codemirror_mode": {
        "name": "ipython",
        "version": 3
      },
      "file_extension": ".py",
      "mimetype": "text/x-python",
      "name": "python",
      "nbconvert_exporter": "python",
      "pygments_lexer": "ipython3",
      "version": "3.12.3"
    }
  },
  "nbformat": 4,
  "nbformat_minor": 0
}
